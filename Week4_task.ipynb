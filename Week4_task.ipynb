{
 "cells": [
  {
   "cell_type": "code",
   "execution_count": 2,
   "id": "82238cfc",
   "metadata": {},
   "outputs": [
    {
     "name": "stdout",
     "output_type": "stream",
     "text": [
      "Your favorite color is black.\n"
     ]
    }
   ],
   "source": [
    "x = input(\"What is your favorite color?\")\n",
    "\n",
    "print(f\"Your favorite color is {x}.\")"
   ]
  },
  {
   "cell_type": "code",
   "execution_count": 1,
   "id": "ccd1ef28",
   "metadata": {},
   "outputs": [
    {
     "name": "stdout",
     "output_type": "stream",
     "text": [
      "HELLO , Esther\n"
     ]
    }
   ],
   "source": [
    "name = input(\"Enter your name:\")\n",
    "\n",
    "print(f\"HELLO , {name}\")"
   ]
  },
  {
   "cell_type": "code",
   "execution_count": 4,
   "id": "9718025b",
   "metadata": {},
   "outputs": [
    {
     "name": "stdout",
     "output_type": "stream",
     "text": [
      "HELLO , ESTHER.\n"
     ]
    }
   ],
   "source": [
    "name = input(\"Enter your name:\")\n",
    "\n",
    "print(f\"HELLO , {name.upper()}.\")"
   ]
  },
  {
   "cell_type": "code",
   "execution_count": 15,
   "id": "e1debc92",
   "metadata": {},
   "outputs": [
    {
     "name": "stdout",
     "output_type": "stream",
     "text": [
      "The word has 6 letters.\n"
     ]
    }
   ],
   "source": [
    "# Ask the user for a word\n",
    "word = input(\"Enter a simple word:\")\n",
    "\n",
    "# Count the number of letters using len()\n",
    "length = len(word)\n",
    "\n",
    "# Print the result\n",
    "print(\"The word has\", length, \"letters.\")"
   ]
  },
  {
   "cell_type": "code",
   "execution_count": 3,
   "id": "1d55dbe1",
   "metadata": {},
   "outputs": [
    {
     "name": "stdout",
     "output_type": "stream",
     "text": [
      "11\n"
     ]
    }
   ],
   "source": [
    "course_name = \"Programming\"\n",
    "\n",
    "length = (len(course_name))\n",
    "\n",
    "print(length)"
   ]
  },
  {
   "cell_type": "code",
   "execution_count": 6,
   "id": "c8e8aba3",
   "metadata": {},
   "outputs": [
    {
     "name": "stdout",
     "output_type": "stream",
     "text": [
      "PYTHON PROGRAMMING LANGUAGE\n"
     ]
    }
   ],
   "source": [
    "course_name = \"python programming language\"\n",
    "\n",
    "print(f\"{course_name.upper()}\")"
   ]
  },
  {
   "cell_type": "code",
   "execution_count": 8,
   "id": "35010a92",
   "metadata": {},
   "outputs": [
    {
     "name": "stdout",
     "output_type": "stream",
     "text": [
      "for basic analytics using python machine language by industry standards\n"
     ]
    }
   ],
   "source": [
    "course_content = \"FOR BASIC ANALYTICS USING PYTHON MACHINE LANGUAGE BY INDUSTRY STANDARDS\"\n",
    "\n",
    "print(f\"{course_content.lower()}\")"
   ]
  },
  {
   "cell_type": "code",
   "execution_count": 1,
   "id": "020b9f46",
   "metadata": {},
   "outputs": [
    {
     "name": "stdout",
     "output_type": "stream",
     "text": [
      "Original: hello\n",
      "Reversed: olleh\n"
     ]
    }
   ],
   "source": [
    "# Original string\n",
    "text = \"hello\"\n",
    "\n",
    "# Reverse the string\n",
    "reversed_text = text[::-1]\n",
    "\n",
    "print(\"Original:\", text)\n",
    "print(\"Reversed:\", reversed_text)"
   ]
  },
  {
   "cell_type": "code",
   "execution_count": 2,
   "id": "86c87db5",
   "metadata": {},
   "outputs": [
    {
     "name": "stdout",
     "output_type": "stream",
     "text": [
      "It's a palindrome!\n"
     ]
    }
   ],
   "source": [
    "# Ask the user for a string\n",
    "txt = input(\"Enter a word or phrase: \")\n",
    "\n",
    "# Remove spaces and make it lowercase for a simple check\n",
    "clean_txt = txt.replace(\" \", \"\").lower()\n",
    "\n",
    "# Check if it is a palindrome\n",
    "if clean_txt == clean_txt[::-1]:\n",
    "    print(\"It's a palindrome!\")\n",
    "else:\n",
    "    print(\"It's not a palindrome.\")"
   ]
  }
 ],
 "metadata": {
  "kernelspec": {
   "display_name": "Python 3",
   "language": "python",
   "name": "python3"
  },
  "language_info": {
   "codemirror_mode": {
    "name": "ipython",
    "version": 3
   },
   "file_extension": ".py",
   "mimetype": "text/x-python",
   "name": "python",
   "nbconvert_exporter": "python",
   "pygments_lexer": "ipython3",
   "version": "3.13.5"
  }
 },
 "nbformat": 4,
 "nbformat_minor": 5
}
